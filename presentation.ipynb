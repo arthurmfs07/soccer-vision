{
 "cells": [
  {
   "cell_type": "markdown",
   "metadata": {},
   "source": [
    "# Computer Vision aplicado à Futebol\n",
    "**Prática em Ciência de Dados**\n",
    "\n",
    "- Pedro Fernandez Tonso : _4202166_\n",
    "- Gabriel Carbinatto : _??_\n",
    "- Arthur M. F. de Sousa : _14783601_\n",
    "- Rafael\n",
    "- ???"
   ]
  },
  {
   "cell_type": "markdown",
   "metadata": {},
   "source": [
    "# Apresentação 1 - Exploração"
   ]
  },
  {
   "cell_type": "markdown",
   "metadata": {},
   "source": [
    "## Overview do projeto\n",
    "\n",
    "1. Trabalho com vídeos no youtube de partida de futebol.\n",
    "2. Duas partes:\n",
    "    - Computer Vision pipeline para extrair dados dos vídeos\n",
    "    - Machine Learning clássica para análise de dados de futebol"
   ]
  },
  {
   "cell_type": "markdown",
   "metadata": {},
   "source": [
    "## Computer Vision\n",
    "\n",
    "![image.png](reports/computer-vision/images/v1_obj_detect.png)\n",
    "\n",
    "Nessa parte, vamos criar uma pipeline que é capaz de extrair automaticamente\n",
    "\n",
    "dados de posição dos jogadores baseado em vídeos no youtube de partidas de futebol.\n",
    "\n",
    "\n",
    "### até agora\n",
    "montamos a infraestrutura do projeto para acomodar diferentes experimentos\n",
    "\n",
    "montamos um visualizador de inferências feitas em RealTime com buffer\n",
    "\n",
    "automatizamos o download dos vídeos\n",
    "\n",
    "finetuning do YOLOv8 para jogos de futebol (conf moderadas)\n"
   ]
  },
  {
   "cell_type": "markdown",
   "metadata": {},
   "source": [
    "### próximos passos\n",
    "\n",
    "1. detectar pontos padrão do campo\n",
    "\n",
    "2. identificar distância à camera\n",
    "\n",
    "3. performar transformação homográfica\n",
    "\n",
    "4. limpar dados extraidos"
   ]
  },
  {
   "cell_type": "code",
   "execution_count": null,
   "metadata": {},
   "outputs": [
    {
     "name": "stderr",
     "output_type": "stream",
     "text": [
      "[2025-03-16 17:21:35] INFO - Loaded YOLO model : yolov8_finetuned.pt\n",
      "[2025-03-16 17:21:35] INFO - 📂 Video: /home/tonso/code/00--research/soccer-vision/data/00--raw/videos/JOGO COMPLETO： WERDER BREMEN X BAYERN DE MUNIQUE ｜ RODADA 1 ｜ BUNDESLIGA 23⧸24.mp4 | Frames: 362186\n"
     ]
    },
    {
     "name": "stdout",
     "output_type": "stream",
     "text": [
      "🚀 Inference Process Started\n",
      "⏳ Buffer low (0/40), waiting for more frames...\n",
      "⏳ Buffer low (4/40), waiting for more frames...\n",
      "⏳ Buffer low (12/40), waiting for more frames...\n",
      "⏳ Buffer low (19/40), waiting for more frames...\n",
      "⏳ Buffer low (19/40), waiting for more frames...\n",
      "⏳ Buffer low (19/40), waiting for more frames...\n"
     ]
    }
   ],
   "source": [
    "from src.pipeline.inference import RealTimeInference\n",
    "\n",
    "# exemplo de uso YOLOv8\n",
    "inference = RealTimeInference()\n",
    "inference.run()\n"
   ]
  },
  {
   "cell_type": "markdown",
   "metadata": {},
   "source": [
    "## Análise de dados\n"
   ]
  },
  {
   "cell_type": "markdown",
   "metadata": {},
   "source": [
    "como tá ai?"
   ]
  },
  {
   "cell_type": "markdown",
   "metadata": {},
   "source": [
    "# Apresentação 2 - "
   ]
  },
  {
   "cell_type": "markdown",
   "metadata": {},
   "source": [
    "# Apresentação 3 - "
   ]
  }
 ],
 "metadata": {
  "kernelspec": {
   "display_name": "venv",
   "language": "python",
   "name": "python3"
  },
  "language_info": {
   "codemirror_mode": {
    "name": "ipython",
    "version": 3
   },
   "file_extension": ".py",
   "mimetype": "text/x-python",
   "name": "python",
   "nbconvert_exporter": "python",
   "pygments_lexer": "ipython3",
   "version": "3.10.12"
  }
 },
 "nbformat": 4,
 "nbformat_minor": 2
}
