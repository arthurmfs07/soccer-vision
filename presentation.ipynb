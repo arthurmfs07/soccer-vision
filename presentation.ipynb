{
 "cells": [
  {
   "cell_type": "markdown",
   "metadata": {},
   "source": [
    "# Computer Vision aplicado a Futebol\n",
    "**Prática em Ciência de Dados**\n",
    "\n",
    "- Pedro Fernandez Tonso : _4202166_\n",
    "- Gabriel Carbinatto : _??_\n",
    "- Arthur M. F. de Sousa : _14783601_\n",
    "- Rafael\n",
    "- ???"
   ]
  },
  {
   "cell_type": "markdown",
   "metadata": {},
   "source": [
    "# Apresentação 1 - Exploração"
   ]
  },
  {
   "cell_type": "markdown",
   "metadata": {},
   "source": [
    "## Overview do projeto\n",
    "\n",
    "1. Trabalho com vídeos no youtube de partida de futebol.\n",
    "2. Duas partes:\n",
    "    - Computer Vision pipeline para extrair dados dos vídeos\n",
    "    - Machine Learning clássica para análise de dados de futebol"
   ]
  },
  {
   "cell_type": "markdown",
   "metadata": {},
   "source": [
    "## Computer Vision"
   ]
  },
  {
   "cell_type": "markdown",
   "metadata": {},
   "source": [
    "\n",
    "![image.png](reports/computer-vision/images/v1_obj_detect.png)\n",
    "\n",
    "Nessa parte, vamos criar uma pipeline que é capaz de extrair automaticamente\n",
    "\n",
    "dados de posição dos jogadores baseado em vídeos no youtube de partidas de futebol.\n",
    "\n",
    "\n",
    "### até agora\n",
    "montamos a infraestrutura do projeto para acomodar diferentes experimentos\n",
    "\n",
    "montamos um visualizador de inferências feitas em RealTime com buffer\n",
    "\n",
    "automatizamos o download dos vídeos\n",
    "\n",
    "finetuning do YOLOv8 para jogos de futebol (conf moderadas)\n"
   ]
  },
  {
   "cell_type": "markdown",
   "metadata": {},
   "source": [
    "### próximos passos\n",
    "\n",
    "1. detectar pontos padrão do campo\n",
    "\n",
    "2. _identificar distância à camera_\n",
    "\n",
    "3. performar transformação homográfica\n",
    "\n",
    "4. limpar dados extraidos"
   ]
  },
  {
   "cell_type": "code",
   "execution_count": null,
   "metadata": {},
   "outputs": [],
   "source": [
    "from src.pipeline.inference import RealTimeInference\n",
    "\n",
    "# exemplo de uso YOLOv8\n",
    "inference = RealTimeInference()\n",
    "inference.run()\n"
   ]
  },
  {
   "cell_type": "markdown",
   "metadata": {},
   "source": [
    "## Depth Anything V2 model (candidato)"
   ]
  },
  {
   "cell_type": "markdown",
   "metadata": {},
   "source": [
    "Estimação de profundidade monocular"
   ]
  },
  {
   "cell_type": "markdown",
   "metadata": {},
   "source": [
    "_Ponto 2 **próximos passos**:_\n",
    "    \n",
    "    identificador de distância a câmera\n"
   ]
  },
  {
   "cell_type": "markdown",
   "metadata": {},
   "source": [
    "- carrega imagens 8-bit numa escala de cinza\n",
    "- valores normalizados de distância, ponto mais distante é 255\n",
    "- _(desafio)_ estimar escala do mundo real para sair da normalização"
   ]
  },
  {
   "cell_type": "markdown",
   "metadata": {},
   "source": [
    "![image.png](depthanything/picsout/demo01.png)"
   ]
  },
  {
   "cell_type": "markdown",
   "metadata": {},
   "source": [
    "Stats for demo01.png:\n",
    "  - Min Depth: 0\n",
    "  - Max Depth: 255\n",
    "  - Mean Depth: 126.20\n",
    "  - Variance: 5473.10"
   ]
  },
  {
   "cell_type": "markdown",
   "metadata": {},
   "source": [
    "![image.png](depthanything/picsout/v1_obj_detect.png)"
   ]
  },
  {
   "cell_type": "markdown",
   "metadata": {},
   "source": [
    "Stats for v1_obj_detect.png:\n",
    "  - Min Depth: 8\n",
    "  - Max Depth: 255\n",
    "  - Mean Depth: 152.96\n",
    "  - Variance: 2191.04"
   ]
  },
  {
   "cell_type": "markdown",
   "metadata": {},
   "source": [
    "## Análise de dados\n"
   ]
  },
  {
   "cell_type": "markdown",
   "metadata": {},
   "source": [
    "Os dados oferecidos pela StatsBomb contemplam não apenas os tradicionais eventos de jogo (como passes,\n",
    "chutes, desarmes, etc.), mas tambm o recurso 360, que disponibiliza informações de posicionamento (freeze\n",
    "frames) em momentos específicos. Esses dois tipos de dados abrem caminho para análises avançadas que\n",
    "podem correlacionar a ocupação de espaço no campo, movimentação de jogadores e dinâmicas coletivas com\n",
    "o resultado das partidas."
   ]
  },
  {
   "cell_type": "markdown",
   "metadata": {},
   "source": [
    "Shot Freeze Frame Objects (`freeze_frame`)\n",
    "- arrays contendo informação relevante sobre jogadores a cada momento de captura \n",
    "\n",
    "<div align = \"center\">\n",
    "\n",
    "| Column    | Type       | Child      | Child Type     |\n",
    "|-----------|-----------|------------|---------------|\n",
    "| location  | array [x,y] |            |               |\n",
    "| player    | object    | id / name   | integer / text |\n",
    "| position  | object    | id / name   | integer / text |\n",
    "| teammate  | boolean   |            |               |\n",
    "\n",
    "</div>\n",
    "\n",
    "<br>\n",
    "<br>\n",
    "\n",
    "<div align = \"center\">\n",
    "\n",
    "```json \n",
    "{'teammate': True,\n",
    " 'actor': False,\n",
    " 'keeper': True,\n",
    " 'location': [22.697541663925428, 41.01277368603656]}\n",
    " ```\n",
    "\n",
    " </div>"
   ]
  },
  {
   "cell_type": "markdown",
   "metadata": {},
   "source": [
    "# Apresentação 2 - "
   ]
  },
  {
   "cell_type": "markdown",
   "metadata": {},
   "source": [
    "# Apresentação 3 - "
   ]
  }
 ],
 "metadata": {
  "kernelspec": {
   "display_name": "depth_anything_v2",
   "language": "python",
   "name": "python3"
  },
  "language_info": {
   "codemirror_mode": {
    "name": "ipython",
    "version": 3
   },
   "file_extension": ".py",
   "mimetype": "text/x-python",
   "name": "python",
   "nbconvert_exporter": "python",
   "pygments_lexer": "ipython3",
   "version": "3.11.11"
  }
 },
 "nbformat": 4,
 "nbformat_minor": 2
}
