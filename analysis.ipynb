{
 "cells": [
  {
   "cell_type": "markdown",
   "metadata": {},
   "source": [
    "# Computer Vision aplicado à Futebol\n",
    "**Prática em Ciência de Dados**\n",
    "\n",
    "- Pedro Fernandez Tonso : _4202166_\n",
    "- Gabriel Carbinatto : __\n",
    "- Arthur M. F. de Sousa : __"
   ]
  },
  {
   "cell_type": "code",
   "execution_count": null,
   "metadata": {},
   "outputs": [],
   "source": [
    "# importings\n",
    "\n",
    "from src.config import *\n",
    "from src.video import Video, VideoConfig\n",
    "\n",
    "from src.models.perspective import Homography\n",
    "from src.models.objdetect import Homography\n"
   ]
  },
  {
   "cell_type": "markdown",
   "metadata": {},
   "source": [
    "# Apresentação 1 - Exploração"
   ]
  },
  {
   "cell_type": "markdown",
   "metadata": {},
   "source": [
    "# Apresentação 2 - "
   ]
  },
  {
   "cell_type": "markdown",
   "metadata": {},
   "source": [
    "# Apresentação 3 - "
   ]
  }
 ],
 "metadata": {
  "kernelspec": {
   "display_name": "venv",
   "language": "python",
   "name": "python3"
  },
  "language_info": {
   "name": "python",
   "version": "3.10.12"
  }
 },
 "nbformat": 4,
 "nbformat_minor": 2
}
