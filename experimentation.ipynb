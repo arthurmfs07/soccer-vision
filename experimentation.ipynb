{
 "cells": [
  {
   "cell_type": "code",
   "execution_count": 1,
   "metadata": {},
   "outputs": [],
   "source": [
    "# Experimentation notebook"
   ]
  },
  {
   "cell_type": "code",
   "execution_count": 2,
   "metadata": {},
   "outputs": [],
   "source": [
    "## Perspective model"
   ]
  },
  {
   "cell_type": "code",
   "execution_count": 6,
   "metadata": {},
   "outputs": [],
   "source": [
    "import os\n",
    "import cv2\n",
    "import torch\n",
    "import numpy as np\n",
    "from PIL import Image\n",
    "import matplotlib.pyplot as plt\n",
    "from scipy.signal import convolve2d\n",
    "\n",
    "from src.pipeline.inference import RealTimeInference, RealTimeConfig\n",
    "from src.model.detect.objdetect import ObjectDetector\n",
    "from src.model.perspective.field import HomographyPitchDrawer"
   ]
  },
  {
   "cell_type": "code",
   "execution_count": 7,
   "metadata": {},
   "outputs": [],
   "source": [
    "\n",
    "inference = RealTimeInference()\n",
    "# inference.run()\n"
   ]
  },
  {
   "cell_type": "markdown",
   "metadata": {},
   "source": [
    "\n",
    "![Screenshot](reports/screenshot_2025-03-18.png)\n"
   ]
  },
  {
   "cell_type": "code",
   "execution_count": 8,
   "metadata": {},
   "outputs": [
    {
     "name": "stdout",
     "output_type": "stream",
     "text": [
      "Shape of image array: (350, 667, 3)\n",
      "Data type: uint8\n"
     ]
    },
    {
     "ename": "ValueError",
     "evalue": "convolve2d inputs must both be 2-D arrays",
     "output_type": "error",
     "traceback": [
      "\u001b[0;31m---------------------------------------------------------------------------\u001b[0m",
      "\u001b[0;31mValueError\u001b[0m                                Traceback (most recent call last)",
      "Cell \u001b[0;32mIn[8], line 24\u001b[0m\n\u001b[1;32m     20\u001b[0m \u001b[38;5;28mprint\u001b[39m(\u001b[38;5;124m\"\u001b[39m\u001b[38;5;124mShape of image array:\u001b[39m\u001b[38;5;124m\"\u001b[39m, img_array\u001b[38;5;241m.\u001b[39mshape)\n\u001b[1;32m     21\u001b[0m \u001b[38;5;28mprint\u001b[39m(\u001b[38;5;124m\"\u001b[39m\u001b[38;5;124mData type:\u001b[39m\u001b[38;5;124m\"\u001b[39m, img_array\u001b[38;5;241m.\u001b[39mdtype)\n\u001b[0;32m---> 24\u001b[0m edges_x \u001b[38;5;241m=\u001b[39m \u001b[43mconvolve2d\u001b[49m\u001b[43m(\u001b[49m\u001b[43mimg_array\u001b[49m\u001b[43m,\u001b[49m\u001b[43m \u001b[49m\u001b[43msobel_x\u001b[49m\u001b[43m,\u001b[49m\u001b[43m \u001b[49m\u001b[43mmode\u001b[49m\u001b[38;5;241;43m=\u001b[39;49m\u001b[38;5;124;43m'\u001b[39;49m\u001b[38;5;124;43msame\u001b[39;49m\u001b[38;5;124;43m'\u001b[39;49m\u001b[43m,\u001b[49m\u001b[43m \u001b[49m\u001b[43mboundary\u001b[49m\u001b[38;5;241;43m=\u001b[39;49m\u001b[38;5;124;43m'\u001b[39;49m\u001b[38;5;124;43msymm\u001b[39;49m\u001b[38;5;124;43m'\u001b[39;49m\u001b[43m)\u001b[49m\n\u001b[1;32m     25\u001b[0m edges_y \u001b[38;5;241m=\u001b[39m convolve2d(img_array, sobel_y, mode\u001b[38;5;241m=\u001b[39m\u001b[38;5;124m'\u001b[39m\u001b[38;5;124msame\u001b[39m\u001b[38;5;124m'\u001b[39m, boundary\u001b[38;5;241m=\u001b[39m\u001b[38;5;124m'\u001b[39m\u001b[38;5;124msymm\u001b[39m\u001b[38;5;124m'\u001b[39m)\n\u001b[1;32m     27\u001b[0m \u001b[38;5;66;03m# Compute gradient magnitude\u001b[39;00m\n",
      "File \u001b[0;32m~/code/00--research/soccer-vision/venv/lib/python3.10/site-packages/scipy/signal/_signaltools.py:1759\u001b[0m, in \u001b[0;36mconvolve2d\u001b[0;34m(in1, in2, mode, boundary, fillvalue)\u001b[0m\n\u001b[1;32m   1756\u001b[0m in2 \u001b[38;5;241m=\u001b[39m np\u001b[38;5;241m.\u001b[39masarray(in2)\n\u001b[1;32m   1758\u001b[0m \u001b[38;5;28;01mif\u001b[39;00m \u001b[38;5;129;01mnot\u001b[39;00m in1\u001b[38;5;241m.\u001b[39mndim \u001b[38;5;241m==\u001b[39m in2\u001b[38;5;241m.\u001b[39mndim \u001b[38;5;241m==\u001b[39m \u001b[38;5;241m2\u001b[39m:\n\u001b[0;32m-> 1759\u001b[0m     \u001b[38;5;28;01mraise\u001b[39;00m \u001b[38;5;167;01mValueError\u001b[39;00m(\u001b[38;5;124m'\u001b[39m\u001b[38;5;124mconvolve2d inputs must both be 2-D arrays\u001b[39m\u001b[38;5;124m'\u001b[39m)\n\u001b[1;32m   1761\u001b[0m \u001b[38;5;28;01mif\u001b[39;00m _inputs_swap_needed(mode, in1\u001b[38;5;241m.\u001b[39mshape, in2\u001b[38;5;241m.\u001b[39mshape):\n\u001b[1;32m   1762\u001b[0m     in1, in2 \u001b[38;5;241m=\u001b[39m in2, in1\n",
      "\u001b[0;31mValueError\u001b[0m: convolve2d inputs must both be 2-D arrays"
     ]
    }
   ],
   "source": [
    "from PIL import Image\n",
    "import numpy as np\n",
    "\n",
    "image_path = 'reports/screenshot_2025-03-18.png'\n",
    "img = Image.open(image_path)\n",
    "img_array = np.array(img)\n",
    "\n",
    "sobel_x = np.array([\n",
    "    [ -1,  0,  1],\n",
    "    [ -2,  0,  2],\n",
    "    [ -1,  0,  1]\n",
    "    ])\n",
    "\n",
    "sobel_y = np.array([\n",
    "    [ -1, -2, -1],\n",
    "    [  0,  0,  0],\n",
    "    [  1,  2,  1]\n",
    "])\n",
    "\n",
    "print(\"Shape of image array:\", img_array.shape)\n",
    "print(\"Data type:\", img_array.dtype)\n",
    "\n",
    "\n",
    "edges_x = convolve2d(img_array, sobel_x, mode='same', boundary='symm')\n",
    "edges_y = convolve2d(img_array, sobel_y, mode='same', boundary='symm')\n",
    "\n",
    "# Compute gradient magnitude\n",
    "edges = np.sqrt(edges_x**2 + edges_y**2)\n",
    "edges = (edges / edges.max() * 255).astype(np.uint8)  # Normalize to 0-255\n",
    "\n",
    "# Display the result\n",
    "plt.figure(figsize=(10,5))\n",
    "plt.subplot(1,2,1)\n",
    "plt.imshow(img_array, cmap='gray')\n",
    "plt.title('Original Image')\n",
    "plt.axis('off')\n",
    "\n",
    "plt.subplot(1,2,2)\n",
    "plt.imshow(edges, cmap='gray')\n",
    "plt.title('Edge Detection (Sobel)')\n",
    "plt.axis('off')\n",
    "\n",
    "plt.show()"
   ]
  },
  {
   "cell_type": "code",
   "execution_count": null,
   "metadata": {},
   "outputs": [],
   "source": [
    "\n",
    "# edge detection\n",
    "\n",
    "laplacian = np.array([[0,  1, 0],\n",
    "                      [1, -4, 1],\n",
    "                      [0,  1, 0]])\n",
    "edges = convolve2d(img_array, laplacian, mode='same', boundary='symm')\n",
    "\n"
   ]
  },
  {
   "cell_type": "code",
   "execution_count": null,
   "metadata": {},
   "outputs": [
    {
     "name": "stderr",
     "output_type": "stream",
     "text": [
      "[2025-03-18 15:23:14] INFO - HomographyPitchDrawer initialized.\n",
      "[2025-03-18 15:23:14] INFO - Pitch drawing completed.\n",
      "[2025-03-18 15:23:14] INFO - Numpy representation has shape (900, 1600, 3).\n"
     ]
    },
    {
     "data": {
      "image/png": "[encoded data removed]",
      "text/plain": [
       "<Figure size 1600x900 with 1 Axes>"
      ]
     },
     "metadata": {},
     "output_type": "display_data"
    }
   ],
   "source": [
    "\n",
    "drawer = HomographyPitchDrawer()\n",
    "\n",
    "drawer.draw_pitch()\n",
    "\n",
    "pitch_np = drawer.get_numpy_representation()\n"
   ]
  },
  {
   "cell_type": "code",
   "execution_count": null,
   "metadata": {},
   "outputs": [],
   "source": []
  }
 ],
 "metadata": {
  "kernelspec": {
   "display_name": "venv",
   "language": "python",
   "name": "python3"
  },
  "language_info": {
   "codemirror_mode": {
    "name": "ipython",
    "version": 3
   },
   "file_extension": ".py",
   "mimetype": "text/x-python",
   "name": "python",
   "nbconvert_exporter": "python",
   "pygments_lexer": "ipython3",
   "version": "3.10.12"
  }
 },
 "nbformat": 4,
 "nbformat_minor": 2
}
