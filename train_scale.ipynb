{
 "cells": [
  {
   "cell_type": "code",
   "execution_count": null,
   "id": "981a3485",
   "metadata": {},
   "outputs": [],
   "source": [
    "!nvidia-smi"
   ]
  },
  {
   "cell_type": "code",
   "execution_count": null,
   "id": "1e0c1762",
   "metadata": {},
   "outputs": [],
   "source": [
    "# esse é mais rapido\n",
    "\n",
    "!yolo task=pose \\\n",
    "    mode=train \\\n",
    "    model=yolov8m-pose.pt \\\n",
    "    data=\"/home/tonso/code/00--research/soccer-vision/data/00--raw/football-field-detection.v15i.yolov8/data.yaml\" \\\n",
    "    batch=2 \\\n",
    "    device=0 \\\n",
    "    imgsz=320 \\\n",
    "    epochs=500 \\\n",
    "    patience=30 \\\n",
    "    lr0=0.01 \\\n",
    "    fliplr=0.5 \\\n",
    "    amp=False \\\n",
    "    mosaic=0.0 \\\n",
    "    save=True \\\n",
    "    seed=0 \\\n",
    "    deterministic=True \\\n",
    "    plots=True \\\n",
    "    name=yolov8m-pose-imgsz320\n",
    "\n"
   ]
  },
  {
   "cell_type": "code",
   "execution_count": null,
   "id": "2afc36b6",
   "metadata": {},
   "outputs": [],
   "source": [
    "\n",
    "# esse demora\n",
    "\n",
    "!yolo task=pose \\\n",
    "    mode=train \\\n",
    "    model=yolov8x-pose.pt \\\n",
    "    data=\"/home/tonso/code/00--research/soccer-vision/data/00--raw/football-field-detection.v15i.yolov8/data.yaml\" \\\n",
    "    batch=8 \\\n",
    "    device=0 \\\n",
    "    imgsz=640 \\\n",
    "    epochs=500 \\\n",
    "    patience=30 \\\n",
    "    lr0=0.01 \\\n",
    "    fliplr=0.5 \\\n",
    "    amp=False \\\n",
    "    mosaic=0.0 \\\n",
    "    save=True \\\n",
    "    seed=0 \\\n",
    "    deterministic=True \\\n",
    "    plots=True \\\n",
    "    name=yolov8x-pose-imgsz640\n",
    "\n"
   ]
  },
  {
   "cell_type": "code",
   "execution_count": null,
   "id": "bbadac34",
   "metadata": {},
   "outputs": [],
   "source": [
    "from pathlib import Path\n",
    "from src.model.detect.finetune import YOLOTrainer\n",
    "\n",
    "data_path = Path(\"data\")\n",
    "\n",
    "dataset_yaml = data_path / \"00--raw\" / \"football-players-detection.v12i.yolov8\" / \"data.yaml\"\n",
    "trainer = YOLOTrainer(dataset_yaml, model_size=\"yolov8m\", epochs=500, patience=30, batch_size=2, lr=0.01, imgz=320)\n",
    "\n",
    "save_path = data_path / \"10--models\" / \"yolov8m_detect_imgsz320.pt\"\n",
    "trainer.train()\n",
    "trainer.evaluate()\n",
    "trainer.save_model(save_path=save_path)\n"
   ]
  },
  {
   "cell_type": "code",
   "execution_count": null,
   "id": "77059f23",
   "metadata": {},
   "outputs": [],
   "source": [
    "# esse é lento\n",
    "from pathlib import Path\n",
    "from src.model.detect.finetune import YOLOTrainer\n",
    "\n",
    "data_path = Path(\"data\")\n",
    "\n",
    "dataset_yaml = data_path / \"00--raw\" / \"football-players-detection.v12i.yolov8\" / \"data.yaml\"\n",
    "trainer = YOLOTrainer(dataset_yaml, model_size=\"yolov8x\", epochs=500, patience=30, batch_size=8, lr=0.01, imgz=640)\n",
    "\n",
    "save_path = data_path / \"10--models\" / \"yolov8m_detect_imgsz640.pt\"\n",
    "trainer.train()\n",
    "trainer.evaluate()\n",
    "trainer.save_model(save_path=save_path)\n"
   ]
  }
 ],
 "metadata": {
  "kernelspec": {
   "display_name": "venv",
   "language": "python",
   "name": "python3"
  },
  "language_info": {
   "codemirror_mode": {
    "name": "ipython",
    "version": 3
   },
   "file_extension": ".py",
   "mimetype": "text/x-python",
   "name": "python",
   "nbconvert_exporter": "python",
   "pygments_lexer": "ipython3",
   "version": "3.10.12"
  }
 },
 "nbformat": 4,
 "nbformat_minor": 5
}
